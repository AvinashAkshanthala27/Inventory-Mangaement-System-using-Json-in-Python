{
  "nbformat": 4,
  "nbformat_minor": 0,
  "metadata": {
    "colab": {
      "name": "Inventory Management System.ipynb",
      "provenance": [],
      "collapsed_sections": []
    },
    "kernelspec": {
      "name": "python3",
      "display_name": "Python 3"
    },
    "language_info": {
      "name": "python"
    }
  },
  "cells": [
    {
      "cell_type": "markdown",
      "metadata": {
        "id": "kbYSDD5qKshI"
      },
      "source": [
        "**Inventory Record**"
      ]
    },
    {
      "cell_type": "code",
      "metadata": {
        "colab": {
          "base_uri": "https://localhost:8080/"
        },
        "id": "nZoLTzIRJ4b0",
        "outputId": "371dad5c-5c80-4cc6-9fd1-5fdc8e0d7079"
      },
      "source": [
        "Record = { 1001 : {\"Product_name\" : \"Suitcase\"      , \"Price\" : 4570  , \"Brand\" : \"AmericanTourister\" , \"Quantity\" : 250 , \"Seller\" : \"Cloudtail\" , \"Rating\" : 4.8},\n",
        "           1002 : {\"Product_name\" : \"Television\"    , \"Price\" : 35000 , \"Brand\" : \"LG\"                , \"Quantity\" : 700 , \"Seller\" : \"Cloudtail\" , \"Rating\" : 4.5},\n",
        "           1003 : {\"Product_name\" : \"Speakers\"      , \"Price\" : 1570  , \"Brand\" : \"BOAT\"              , \"Quantity\" : 900 , \"Seller\" : \"Appario\"   , \"Rating\" : 5.0},\n",
        "           1004 : {\"Product_name\" : \"DSLR_camera\"   , \"Price\" : 55570 , \"Brand\" : \"Canon\"             , \"Quantity\" : 800 , \"Seller\" : \"Appario\"   , \"Rating\" : 4.9},\n",
        "           1005 : {\"Product_name\" : \"Casual_shoe\"   , \"Price\" : 4500  , \"Brand\" : \"Red_tape\"          , \"Quantity\" : 875 , \"Seller\" : \"Ria\"       , \"Rating\" : 4.1}, \n",
        "           1006 : {\"Product_name\" : \"Formal_shoe\"   , \"Price\" : 2400  , \"Brand\" : \"Puma\"              , \"Quantity\" : 580 , \"Seller\" : \"Rupal\"     , \"Rating\" : 4.7}, \n",
        "           1007 : {\"Product_name\" : \"Sports_shoe\"   , \"Price\" : 4578  , \"Brand\" : \"Adidas\"            , \"Quantity\" : 370 , \"Seller\" : \"shoppers\"  , \"Rating\" : 4.6},\n",
        "           1008 : {\"Product_name\" : \"Wallet\"        , \"Price\" : 1450  , \"Brand\" : \"Lavie\"             , \"Quantity\" : 100 , \"Seller\" : \"shrimadav\" , \"Rating\" : 4.2}, \n",
        "           1009 : {\"Product_name\" : \"Sunglasses\"    , \"Price\" : 6247  , \"Brand\" : \"Polariod\"          , \"Quantity\" : 490 , \"Seller\" : \"Cloudtail\" , \"Rating\" : 4.0}, \n",
        "           1010 : {\"Product_name\" : \"Wrist_watch\"   , \"Price\" : 7621  , \"Brand\" : \"Mutaqinoti\"        , \"Quantity\" : 720 , \"Seller\" : \"Cloudtail\" , \"Rating\" : 4.4}, \n",
        "           1011 : {\"Product_name\" : \"Phone\"         , \"Price\" : 74000 , \"Brand\" : \"one_plus\"          , \"Quantity\" : 490 , \"Seller\" : \"Perfect\"   , \"Rating\" : 4.7}, \n",
        "           1012 : {\"Product_name\" : \"Refrigerator\"  , \"Price\" : 84000 , \"Brand\" : \"Samsung\"           , \"Quantity\" : 350 , \"Seller\" : \"Appario\"   , \"Rating\" : 4.5}, \n",
        "           1013 : {\"Product_name\" : \"Laptop\"        , \"Price\" : 69000 , \"Brand\" : \"Dell\"              , \"Quantity\" : 245 , \"Seller\" : \"Ria\"       , \"Rating\" : 4.5}, \n",
        "           1014 : {\"Product_name\" : \"Printer\"       , \"Price\" : 21000 , \"Brand\" : \"HP\"                , \"Quantity\" : 320 , \"Seller\" : \"Cloudtail\" , \"Rating\" : 4.6}, \n",
        "           1015 : {\"Product_name\" : \"Power_bank\"    , \"Price\" : 2410  , \"Brand\" : \"Syska\"             , \"Quantity\" : 625 , \"Seller\" : \"Rupal\"     , \"Rating\" : 4.1}, \n",
        "           1016 : {\"Product_name\" : \"Tablet\"        , \"Price\" : 35410 , \"Brand\" : \"Apple\"             , \"Quantity\" : 489 , \"Seller\" : \"shrimadav\" , \"Rating\" : 4.0}, \n",
        "           1017 : {\"Product_name\" : \"Cricket_kit\"   , \"Price\" : 47581 , \"Brand\" : \"SG\"                , \"Quantity\" : 625 , \"Seller\" : \"Cloudtail\" , \"Rating\" : 4.0}, \n",
        "           1018 : {\"Product_name\" : \"Cycle\"         , \"Price\" : 17245 , \"Brand\" : \"Hercules\"          , \"Quantity\" : 425 , \"Seller\" : \"Appario\"   , \"Rating\" : 4.0}, \n",
        "           1019 : {\"Product_name\" : \"Trimmer\"       , \"Price\" : 3542  , \"Brand\" : \"philips\"           , \"Quantity\" : 500 , \"Seller\" : \"Appario\"   , \"Rating\" : 4.4}, \n",
        "           1020 : {\"Product_name\" : \"Gloves\"        , \"Price\" : 7582  , \"Brand\" : \"Royal_enfield\"     , \"Quantity\" : 412 , \"Seller\" : \"Cloudtail\" , \"Rating\" : 4.1}, \n",
        "           1021 : {\"Product_name\" : \"Football\"      , \"Price\" : 1452  , \"Brand\" : \"Vector_X\"          , \"Quantity\" : 123 , \"Seller\" : \"shrimadav\" , \"Rating\" : 4.4}, \n",
        "           1022 : {\"Product_name\" : \"Chocolates\"    , \"Price\" : 1785  , \"Brand\" : \"Diary_milk\"        , \"Quantity\" : 900 , \"Seller\" : \"Perfect\"   , \"Rating\" : 5.0}, \n",
        "           1023 : {\"Product_name\" : \"Skipping_rope\" , \"Price\" : 1496  , \"Brand\" : \"Aurion\"            , \"Quantity\" : 400 , \"Seller\" : \"shrimadav\" , \"Rating\" : 4.9}, \n",
        "           1024 : {\"Product_name\" : \"Yoga_mat\"      , \"Price\" : 789   , \"Brand\" : \"OJS\"               , \"Quantity\" : 750 , \"Seller\" : \"Rupal\"     , \"Rating\" : 4.8}, \n",
        "           1025 : {\"Product_name\" : \"Tent\"          , \"Price\" : 6210  , \"Brand\" : \"Zorzel\"            , \"Quantity\" : 300 , \"Seller\" : \"shrimadav\" , \"Rating\" : 4.1}, \n",
        "           1026 : {\"Product_name\" : \"Camping_kit\"   , \"Price\" : 7814  , \"Brand\" : \"Generic\"           , \"Quantity\" : 400 , \"Seller\" : \"Ria\"       , \"Rating\" : 4.0}, \n",
        "           1027 : {\"Product_name\" : \"Treadmills\"    , \"Price\" : 14895 , \"Brand\" : \"Lifelong\"          , \"Quantity\" : 500 , \"Seller\" : \"Cloudtail\" , \"Rating\" : 4.0}, \n",
        "           1028 : {\"Product_name\" : \"Step_machine\"  , \"Price\" : 45127 , \"Brand\" : \"Reach\"             , \"Quantity\" : 410 , \"Seller\" : \"Appario\"   , \"Rating\" : 4.1}, \n",
        "           1029 : {\"Product_name\" : \"Dining_set\"    , \"Price\" : 35789 , \"Brand\" : \"Royaloak\"          , \"Quantity\" : 740 , \"Seller\" : \"Appario\"   , \"Rating\" : 4.5}, \n",
        "           1030 : {\"Product_name\" : \"Sofa\"          , \"Price\" : 35000 , \"Brand\" : \"Furny\"             , \"Quantity\" : 500 , \"Seller\" : \"shrimadav\" , \"Rating\" : 4.6}, \n",
        "           1031 : {\"Product_name\" : \"Rucksack\"      , \"Price\" : 14500 , \"Brand\" : \"Wildcraft\"         , \"Quantity\" : 500 , \"Seller\" : \"shrimadav\" , \"Rating\" : 4.6}, \n",
        "           1032 : {\"Product_name\" : \"Home_theatre\"  , \"Price\" : 45789 , \"Brand\" : \"Sony\"              , \"Quantity\" : 785 , \"Seller\" : \"Cloudtail\" , \"Rating\" : 4.8} }\n",
        "\n",
        "Record   "
      ],
      "execution_count": 79,
      "outputs": [
        {
          "output_type": "execute_result",
          "data": {
            "text/plain": [
              "{1001: {'Brand': 'AmericanTourister',\n",
              "  'Price': 4570,\n",
              "  'Product_name': 'Suitcase',\n",
              "  'Quantity': 250,\n",
              "  'Rating': 4.8,\n",
              "  'Seller': 'Cloudtail'},\n",
              " 1002: {'Brand': 'LG',\n",
              "  'Price': 35000,\n",
              "  'Product_name': 'Television',\n",
              "  'Quantity': 700,\n",
              "  'Rating': 4.5,\n",
              "  'Seller': 'Cloudtail'},\n",
              " 1003: {'Brand': 'BOAT',\n",
              "  'Price': 1570,\n",
              "  'Product_name': 'Speakers',\n",
              "  'Quantity': 900,\n",
              "  'Rating': 5.0,\n",
              "  'Seller': 'Appario'},\n",
              " 1004: {'Brand': 'Canon',\n",
              "  'Price': 55570,\n",
              "  'Product_name': 'DSLR_camera',\n",
              "  'Quantity': 800,\n",
              "  'Rating': 4.9,\n",
              "  'Seller': 'Appario'},\n",
              " 1005: {'Brand': 'Red_tape',\n",
              "  'Price': 4500,\n",
              "  'Product_name': 'Casual_shoe',\n",
              "  'Quantity': 875,\n",
              "  'Rating': 4.1,\n",
              "  'Seller': 'Ria'},\n",
              " 1006: {'Brand': 'Puma',\n",
              "  'Price': 2400,\n",
              "  'Product_name': 'Formal_shoe',\n",
              "  'Quantity': 580,\n",
              "  'Rating': 4.7,\n",
              "  'Seller': 'Rupal'},\n",
              " 1007: {'Brand': 'Adidas',\n",
              "  'Price': 4578,\n",
              "  'Product_name': 'Sports_shoe',\n",
              "  'Quantity': 370,\n",
              "  'Rating': 4.6,\n",
              "  'Seller': 'shoppers'},\n",
              " 1008: {'Brand': 'Lavie',\n",
              "  'Price': 1450,\n",
              "  'Product_name': 'Wallet',\n",
              "  'Quantity': 100,\n",
              "  'Rating': 4.2,\n",
              "  'Seller': 'shrimadav'},\n",
              " 1009: {'Brand': 'Polariod',\n",
              "  'Price': 6247,\n",
              "  'Product_name': 'Sunglasses',\n",
              "  'Quantity': 490,\n",
              "  'Rating': 4.0,\n",
              "  'Seller': 'Cloudtail'},\n",
              " 1010: {'Brand': 'Mutaqinoti',\n",
              "  'Price': 7621,\n",
              "  'Product_name': 'Wrist_watch',\n",
              "  'Quantity': 720,\n",
              "  'Rating': 4.4,\n",
              "  'Seller': 'Cloudtail'},\n",
              " 1011: {'Brand': 'one_plus',\n",
              "  'Price': 74000,\n",
              "  'Product_name': 'Phone',\n",
              "  'Quantity': 490,\n",
              "  'Rating': 4.7,\n",
              "  'Seller': 'Perfect'},\n",
              " 1012: {'Brand': 'Samsung',\n",
              "  'Price': 84000,\n",
              "  'Product_name': 'Refrigerator',\n",
              "  'Quantity': 350,\n",
              "  'Rating': 4.5,\n",
              "  'Seller': 'Appario'},\n",
              " 1013: {'Brand': 'Dell',\n",
              "  'Price': 69000,\n",
              "  'Product_name': 'Laptop',\n",
              "  'Quantity': 245,\n",
              "  'Rating': 4.5,\n",
              "  'Seller': 'Ria'},\n",
              " 1014: {'Brand': 'HP',\n",
              "  'Price': 21000,\n",
              "  'Product_name': 'Printer',\n",
              "  'Quantity': 320,\n",
              "  'Rating': 4.6,\n",
              "  'Seller': 'Cloudtail'},\n",
              " 1015: {'Brand': 'Syska',\n",
              "  'Price': 2410,\n",
              "  'Product_name': 'Power_bank',\n",
              "  'Quantity': 625,\n",
              "  'Rating': 4.1,\n",
              "  'Seller': 'Rupal'},\n",
              " 1016: {'Brand': 'Apple',\n",
              "  'Price': 35410,\n",
              "  'Product_name': 'Tablet',\n",
              "  'Quantity': 489,\n",
              "  'Rating': 4.0,\n",
              "  'Seller': 'shrimadav'},\n",
              " 1017: {'Brand': 'SG',\n",
              "  'Price': 47581,\n",
              "  'Product_name': 'Cricket_kit',\n",
              "  'Quantity': 625,\n",
              "  'Rating': 4.0,\n",
              "  'Seller': 'Cloudtail'},\n",
              " 1018: {'Brand': 'Hercules',\n",
              "  'Price': 17245,\n",
              "  'Product_name': 'Cycle',\n",
              "  'Quantity': 425,\n",
              "  'Rating': 4.0,\n",
              "  'Seller': 'Appario'},\n",
              " 1019: {'Brand': 'philips',\n",
              "  'Price': 3542,\n",
              "  'Product_name': 'Trimmer',\n",
              "  'Quantity': 500,\n",
              "  'Rating': 4.4,\n",
              "  'Seller': 'Appario'},\n",
              " 1020: {'Brand': 'Royal_enfield',\n",
              "  'Price': 7582,\n",
              "  'Product_name': 'Gloves',\n",
              "  'Quantity': 412,\n",
              "  'Rating': 4.1,\n",
              "  'Seller': 'Cloudtail'},\n",
              " 1021: {'Brand': 'Vector_X',\n",
              "  'Price': 1452,\n",
              "  'Product_name': 'Football',\n",
              "  'Quantity': 123,\n",
              "  'Rating': 4.4,\n",
              "  'Seller': 'shrimadav'},\n",
              " 1022: {'Brand': 'Diary_milk',\n",
              "  'Price': 1785,\n",
              "  'Product_name': 'Chocolates',\n",
              "  'Quantity': 900,\n",
              "  'Rating': 5.0,\n",
              "  'Seller': 'Perfect'},\n",
              " 1023: {'Brand': 'Aurion',\n",
              "  'Price': 1496,\n",
              "  'Product_name': 'Skipping_rope',\n",
              "  'Quantity': 400,\n",
              "  'Rating': 4.9,\n",
              "  'Seller': 'shrimadav'},\n",
              " 1024: {'Brand': 'OJS',\n",
              "  'Price': 789,\n",
              "  'Product_name': 'Yoga_mat',\n",
              "  'Quantity': 750,\n",
              "  'Rating': 4.8,\n",
              "  'Seller': 'Rupal'},\n",
              " 1025: {'Brand': 'Zorzel',\n",
              "  'Price': 6210,\n",
              "  'Product_name': 'Tent',\n",
              "  'Quantity': 300,\n",
              "  'Rating': 4.1,\n",
              "  'Seller': 'shrimadav'},\n",
              " 1026: {'Brand': 'Generic',\n",
              "  'Price': 7814,\n",
              "  'Product_name': 'Camping_kit',\n",
              "  'Quantity': 400,\n",
              "  'Rating': 4.0,\n",
              "  'Seller': 'Ria'},\n",
              " 1027: {'Brand': 'Lifelong',\n",
              "  'Price': 14895,\n",
              "  'Product_name': 'Treadmills',\n",
              "  'Quantity': 500,\n",
              "  'Rating': 4.0,\n",
              "  'Seller': 'Cloudtail'},\n",
              " 1028: {'Brand': 'Reach',\n",
              "  'Price': 45127,\n",
              "  'Product_name': 'Step_machine',\n",
              "  'Quantity': 410,\n",
              "  'Rating': 4.1,\n",
              "  'Seller': 'Appario'},\n",
              " 1029: {'Brand': 'Royaloak',\n",
              "  'Price': 35789,\n",
              "  'Product_name': 'Dining_set',\n",
              "  'Quantity': 740,\n",
              "  'Rating': 4.5,\n",
              "  'Seller': 'Appario'},\n",
              " 1030: {'Brand': 'Furny',\n",
              "  'Price': 35000,\n",
              "  'Product_name': 'Sofa',\n",
              "  'Quantity': 500,\n",
              "  'Rating': 4.6,\n",
              "  'Seller': 'shrimadav'},\n",
              " 1031: {'Brand': 'Wildcraft',\n",
              "  'Price': 14500,\n",
              "  'Product_name': 'Rucksack',\n",
              "  'Quantity': 500,\n",
              "  'Rating': 4.6,\n",
              "  'Seller': 'shrimadav'},\n",
              " 1032: {'Brand': 'Sony',\n",
              "  'Price': 45789,\n",
              "  'Product_name': 'Home_theatre',\n",
              "  'Quantity': 785,\n",
              "  'Rating': 4.8,\n",
              "  'Seller': 'Cloudtail'}}"
            ]
          },
          "metadata": {},
          "execution_count": 79
        }
      ]
    },
    {
      "cell_type": "code",
      "metadata": {
        "id": "FxwTRTQKKTya"
      },
      "source": [
        "import json"
      ],
      "execution_count": 80,
      "outputs": []
    },
    {
      "cell_type": "code",
      "metadata": {
        "colab": {
          "base_uri": "https://localhost:8080/",
          "height": 152
        },
        "id": "TRHPHsmAKaLw",
        "outputId": "18bc86b5-e979-4219-87ba-a673c847df5a"
      },
      "source": [
        "js = json.dumps(Record)\n",
        "js"
      ],
      "execution_count": 81,
      "outputs": [
        {
          "output_type": "execute_result",
          "data": {
            "application/vnd.google.colaboratory.intrinsic+json": {
              "type": "string"
            },
            "text/plain": [
              "'{\"1001\": {\"Product_name\": \"Suitcase\", \"Price\": 4570, \"Brand\": \"AmericanTourister\", \"Quantity\": 250, \"Seller\": \"Cloudtail\", \"Rating\": 4.8}, \"1002\": {\"Product_name\": \"Television\", \"Price\": 35000, \"Brand\": \"LG\", \"Quantity\": 700, \"Seller\": \"Cloudtail\", \"Rating\": 4.5}, \"1003\": {\"Product_name\": \"Speakers\", \"Price\": 1570, \"Brand\": \"BOAT\", \"Quantity\": 900, \"Seller\": \"Appario\", \"Rating\": 5.0}, \"1004\": {\"Product_name\": \"DSLR_camera\", \"Price\": 55570, \"Brand\": \"Canon\", \"Quantity\": 800, \"Seller\": \"Appario\", \"Rating\": 4.9}, \"1005\": {\"Product_name\": \"Casual_shoe\", \"Price\": 4500, \"Brand\": \"Red_tape\", \"Quantity\": 875, \"Seller\": \"Ria\", \"Rating\": 4.1}, \"1006\": {\"Product_name\": \"Formal_shoe\", \"Price\": 2400, \"Brand\": \"Puma\", \"Quantity\": 580, \"Seller\": \"Rupal\", \"Rating\": 4.7}, \"1007\": {\"Product_name\": \"Sports_shoe\", \"Price\": 4578, \"Brand\": \"Adidas\", \"Quantity\": 370, \"Seller\": \"shoppers\", \"Rating\": 4.6}, \"1008\": {\"Product_name\": \"Wallet\", \"Price\": 1450, \"Brand\": \"Lavie\", \"Quantity\": 100, \"Seller\": \"shrimadav\", \"Rating\": 4.2}, \"1009\": {\"Product_name\": \"Sunglasses\", \"Price\": 6247, \"Brand\": \"Polariod\", \"Quantity\": 490, \"Seller\": \"Cloudtail\", \"Rating\": 4.0}, \"1010\": {\"Product_name\": \"Wrist_watch\", \"Price\": 7621, \"Brand\": \"Mutaqinoti\", \"Quantity\": 720, \"Seller\": \"Cloudtail\", \"Rating\": 4.4}, \"1011\": {\"Product_name\": \"Phone\", \"Price\": 74000, \"Brand\": \"one_plus\", \"Quantity\": 490, \"Seller\": \"Perfect\", \"Rating\": 4.7}, \"1012\": {\"Product_name\": \"Refrigerator\", \"Price\": 84000, \"Brand\": \"Samsung\", \"Quantity\": 350, \"Seller\": \"Appario\", \"Rating\": 4.5}, \"1013\": {\"Product_name\": \"Laptop\", \"Price\": 69000, \"Brand\": \"Dell\", \"Quantity\": 245, \"Seller\": \"Ria\", \"Rating\": 4.5}, \"1014\": {\"Product_name\": \"Printer\", \"Price\": 21000, \"Brand\": \"HP\", \"Quantity\": 320, \"Seller\": \"Cloudtail\", \"Rating\": 4.6}, \"1015\": {\"Product_name\": \"Power_bank\", \"Price\": 2410, \"Brand\": \"Syska\", \"Quantity\": 625, \"Seller\": \"Rupal\", \"Rating\": 4.1}, \"1016\": {\"Product_name\": \"Tablet\", \"Price\": 35410, \"Brand\": \"Apple\", \"Quantity\": 489, \"Seller\": \"shrimadav\", \"Rating\": 4.0}, \"1017\": {\"Product_name\": \"Cricket_kit\", \"Price\": 47581, \"Brand\": \"SG\", \"Quantity\": 625, \"Seller\": \"Cloudtail\", \"Rating\": 4.0}, \"1018\": {\"Product_name\": \"Cycle\", \"Price\": 17245, \"Brand\": \"Hercules\", \"Quantity\": 425, \"Seller\": \"Appario\", \"Rating\": 4.0}, \"1019\": {\"Product_name\": \"Trimmer\", \"Price\": 3542, \"Brand\": \"philips\", \"Quantity\": 500, \"Seller\": \"Appario\", \"Rating\": 4.4}, \"1020\": {\"Product_name\": \"Gloves\", \"Price\": 7582, \"Brand\": \"Royal_enfield\", \"Quantity\": 412, \"Seller\": \"Cloudtail\", \"Rating\": 4.1}, \"1021\": {\"Product_name\": \"Football\", \"Price\": 1452, \"Brand\": \"Vector_X\", \"Quantity\": 123, \"Seller\": \"shrimadav\", \"Rating\": 4.4}, \"1022\": {\"Product_name\": \"Chocolates\", \"Price\": 1785, \"Brand\": \"Diary_milk\", \"Quantity\": 900, \"Seller\": \"Perfect\", \"Rating\": 5.0}, \"1023\": {\"Product_name\": \"Skipping_rope\", \"Price\": 1496, \"Brand\": \"Aurion\", \"Quantity\": 400, \"Seller\": \"shrimadav\", \"Rating\": 4.9}, \"1024\": {\"Product_name\": \"Yoga_mat\", \"Price\": 789, \"Brand\": \"OJS\", \"Quantity\": 750, \"Seller\": \"Rupal\", \"Rating\": 4.8}, \"1025\": {\"Product_name\": \"Tent\", \"Price\": 6210, \"Brand\": \"Zorzel\", \"Quantity\": 300, \"Seller\": \"shrimadav\", \"Rating\": 4.1}, \"1026\": {\"Product_name\": \"Camping_kit\", \"Price\": 7814, \"Brand\": \"Generic\", \"Quantity\": 400, \"Seller\": \"Ria\", \"Rating\": 4.0}, \"1027\": {\"Product_name\": \"Treadmills\", \"Price\": 14895, \"Brand\": \"Lifelong\", \"Quantity\": 500, \"Seller\": \"Cloudtail\", \"Rating\": 4.0}, \"1028\": {\"Product_name\": \"Step_machine\", \"Price\": 45127, \"Brand\": \"Reach\", \"Quantity\": 410, \"Seller\": \"Appario\", \"Rating\": 4.1}, \"1029\": {\"Product_name\": \"Dining_set\", \"Price\": 35789, \"Brand\": \"Royaloak\", \"Quantity\": 740, \"Seller\": \"Appario\", \"Rating\": 4.5}, \"1030\": {\"Product_name\": \"Sofa\", \"Price\": 35000, \"Brand\": \"Furny\", \"Quantity\": 500, \"Seller\": \"shrimadav\", \"Rating\": 4.6}, \"1031\": {\"Product_name\": \"Rucksack\", \"Price\": 14500, \"Brand\": \"Wildcraft\", \"Quantity\": 500, \"Seller\": \"shrimadav\", \"Rating\": 4.6}, \"1032\": {\"Product_name\": \"Home_theatre\", \"Price\": 45789, \"Brand\": \"Sony\", \"Quantity\": 785, \"Seller\": \"Cloudtail\", \"Rating\": 4.8}}'"
            ]
          },
          "metadata": {},
          "execution_count": 81
        }
      ]
    },
    {
      "cell_type": "code",
      "metadata": {
        "colab": {
          "base_uri": "https://localhost:8080/"
        },
        "id": "Nd8Ifqh8Kefe",
        "outputId": "9a70ea08-a2c6-4a8b-cbca-6bad354d1ede"
      },
      "source": [
        "type(js)"
      ],
      "execution_count": 82,
      "outputs": [
        {
          "output_type": "execute_result",
          "data": {
            "text/plain": [
              "str"
            ]
          },
          "metadata": {},
          "execution_count": 82
        }
      ]
    },
    {
      "cell_type": "code",
      "metadata": {
        "colab": {
          "base_uri": "https://localhost:8080/"
        },
        "id": "jBz8PtJIKfyZ",
        "outputId": "5836f0d4-4ee0-4994-e1d0-274198211e2a"
      },
      "source": [
        "type(Record)"
      ],
      "execution_count": 83,
      "outputs": [
        {
          "output_type": "execute_result",
          "data": {
            "text/plain": [
              "dict"
            ]
          },
          "metadata": {},
          "execution_count": 83
        }
      ]
    },
    {
      "cell_type": "markdown",
      "metadata": {
        "id": "E9K8f2dLK2F2"
      },
      "source": [
        "**Creating JSON Record**"
      ]
    },
    {
      "cell_type": "code",
      "metadata": {
        "id": "8lv0-dTeK5q8"
      },
      "source": [
        "fd = open(\"Record.json\",'w')\n",
        "\n",
        "fd.write(js)\n",
        "\n",
        "fd.close()"
      ],
      "execution_count": 84,
      "outputs": []
    },
    {
      "cell_type": "markdown",
      "metadata": {
        "id": "7FxFgfgjLAzw"
      },
      "source": [
        "**Read DATA From JSON**"
      ]
    },
    {
      "cell_type": "code",
      "metadata": {
        "id": "j8HSMa4OLBs3"
      },
      "source": [
        "fd = open(\"Record.json\",'r')\n",
        "r = fd.read()\n",
        "fd.close()\n",
        "\n",
        "Record = json.loads(r)"
      ],
      "execution_count": 85,
      "outputs": []
    },
    {
      "cell_type": "code",
      "metadata": {
        "colab": {
          "base_uri": "https://localhost:8080/"
        },
        "id": "m-gwdSAeLF1S",
        "outputId": "b03132c6-b32a-4f4a-c5ea-8df047eb3dc1"
      },
      "source": [
        "Record"
      ],
      "execution_count": 86,
      "outputs": [
        {
          "output_type": "execute_result",
          "data": {
            "text/plain": [
              "{'1001': {'Brand': 'AmericanTourister',\n",
              "  'Price': 4570,\n",
              "  'Product_name': 'Suitcase',\n",
              "  'Quantity': 250,\n",
              "  'Rating': 4.8,\n",
              "  'Seller': 'Cloudtail'},\n",
              " '1002': {'Brand': 'LG',\n",
              "  'Price': 35000,\n",
              "  'Product_name': 'Television',\n",
              "  'Quantity': 700,\n",
              "  'Rating': 4.5,\n",
              "  'Seller': 'Cloudtail'},\n",
              " '1003': {'Brand': 'BOAT',\n",
              "  'Price': 1570,\n",
              "  'Product_name': 'Speakers',\n",
              "  'Quantity': 900,\n",
              "  'Rating': 5.0,\n",
              "  'Seller': 'Appario'},\n",
              " '1004': {'Brand': 'Canon',\n",
              "  'Price': 55570,\n",
              "  'Product_name': 'DSLR_camera',\n",
              "  'Quantity': 800,\n",
              "  'Rating': 4.9,\n",
              "  'Seller': 'Appario'},\n",
              " '1005': {'Brand': 'Red_tape',\n",
              "  'Price': 4500,\n",
              "  'Product_name': 'Casual_shoe',\n",
              "  'Quantity': 875,\n",
              "  'Rating': 4.1,\n",
              "  'Seller': 'Ria'},\n",
              " '1006': {'Brand': 'Puma',\n",
              "  'Price': 2400,\n",
              "  'Product_name': 'Formal_shoe',\n",
              "  'Quantity': 580,\n",
              "  'Rating': 4.7,\n",
              "  'Seller': 'Rupal'},\n",
              " '1007': {'Brand': 'Adidas',\n",
              "  'Price': 4578,\n",
              "  'Product_name': 'Sports_shoe',\n",
              "  'Quantity': 370,\n",
              "  'Rating': 4.6,\n",
              "  'Seller': 'shoppers'},\n",
              " '1008': {'Brand': 'Lavie',\n",
              "  'Price': 1450,\n",
              "  'Product_name': 'Wallet',\n",
              "  'Quantity': 100,\n",
              "  'Rating': 4.2,\n",
              "  'Seller': 'shrimadav'},\n",
              " '1009': {'Brand': 'Polariod',\n",
              "  'Price': 6247,\n",
              "  'Product_name': 'Sunglasses',\n",
              "  'Quantity': 490,\n",
              "  'Rating': 4.0,\n",
              "  'Seller': 'Cloudtail'},\n",
              " '1010': {'Brand': 'Mutaqinoti',\n",
              "  'Price': 7621,\n",
              "  'Product_name': 'Wrist_watch',\n",
              "  'Quantity': 720,\n",
              "  'Rating': 4.4,\n",
              "  'Seller': 'Cloudtail'},\n",
              " '1011': {'Brand': 'one_plus',\n",
              "  'Price': 74000,\n",
              "  'Product_name': 'Phone',\n",
              "  'Quantity': 490,\n",
              "  'Rating': 4.7,\n",
              "  'Seller': 'Perfect'},\n",
              " '1012': {'Brand': 'Samsung',\n",
              "  'Price': 84000,\n",
              "  'Product_name': 'Refrigerator',\n",
              "  'Quantity': 350,\n",
              "  'Rating': 4.5,\n",
              "  'Seller': 'Appario'},\n",
              " '1013': {'Brand': 'Dell',\n",
              "  'Price': 69000,\n",
              "  'Product_name': 'Laptop',\n",
              "  'Quantity': 245,\n",
              "  'Rating': 4.5,\n",
              "  'Seller': 'Ria'},\n",
              " '1014': {'Brand': 'HP',\n",
              "  'Price': 21000,\n",
              "  'Product_name': 'Printer',\n",
              "  'Quantity': 320,\n",
              "  'Rating': 4.6,\n",
              "  'Seller': 'Cloudtail'},\n",
              " '1015': {'Brand': 'Syska',\n",
              "  'Price': 2410,\n",
              "  'Product_name': 'Power_bank',\n",
              "  'Quantity': 625,\n",
              "  'Rating': 4.1,\n",
              "  'Seller': 'Rupal'},\n",
              " '1016': {'Brand': 'Apple',\n",
              "  'Price': 35410,\n",
              "  'Product_name': 'Tablet',\n",
              "  'Quantity': 489,\n",
              "  'Rating': 4.0,\n",
              "  'Seller': 'shrimadav'},\n",
              " '1017': {'Brand': 'SG',\n",
              "  'Price': 47581,\n",
              "  'Product_name': 'Cricket_kit',\n",
              "  'Quantity': 625,\n",
              "  'Rating': 4.0,\n",
              "  'Seller': 'Cloudtail'},\n",
              " '1018': {'Brand': 'Hercules',\n",
              "  'Price': 17245,\n",
              "  'Product_name': 'Cycle',\n",
              "  'Quantity': 425,\n",
              "  'Rating': 4.0,\n",
              "  'Seller': 'Appario'},\n",
              " '1019': {'Brand': 'philips',\n",
              "  'Price': 3542,\n",
              "  'Product_name': 'Trimmer',\n",
              "  'Quantity': 500,\n",
              "  'Rating': 4.4,\n",
              "  'Seller': 'Appario'},\n",
              " '1020': {'Brand': 'Royal_enfield',\n",
              "  'Price': 7582,\n",
              "  'Product_name': 'Gloves',\n",
              "  'Quantity': 412,\n",
              "  'Rating': 4.1,\n",
              "  'Seller': 'Cloudtail'},\n",
              " '1021': {'Brand': 'Vector_X',\n",
              "  'Price': 1452,\n",
              "  'Product_name': 'Football',\n",
              "  'Quantity': 123,\n",
              "  'Rating': 4.4,\n",
              "  'Seller': 'shrimadav'},\n",
              " '1022': {'Brand': 'Diary_milk',\n",
              "  'Price': 1785,\n",
              "  'Product_name': 'Chocolates',\n",
              "  'Quantity': 900,\n",
              "  'Rating': 5.0,\n",
              "  'Seller': 'Perfect'},\n",
              " '1023': {'Brand': 'Aurion',\n",
              "  'Price': 1496,\n",
              "  'Product_name': 'Skipping_rope',\n",
              "  'Quantity': 400,\n",
              "  'Rating': 4.9,\n",
              "  'Seller': 'shrimadav'},\n",
              " '1024': {'Brand': 'OJS',\n",
              "  'Price': 789,\n",
              "  'Product_name': 'Yoga_mat',\n",
              "  'Quantity': 750,\n",
              "  'Rating': 4.8,\n",
              "  'Seller': 'Rupal'},\n",
              " '1025': {'Brand': 'Zorzel',\n",
              "  'Price': 6210,\n",
              "  'Product_name': 'Tent',\n",
              "  'Quantity': 300,\n",
              "  'Rating': 4.1,\n",
              "  'Seller': 'shrimadav'},\n",
              " '1026': {'Brand': 'Generic',\n",
              "  'Price': 7814,\n",
              "  'Product_name': 'Camping_kit',\n",
              "  'Quantity': 400,\n",
              "  'Rating': 4.0,\n",
              "  'Seller': 'Ria'},\n",
              " '1027': {'Brand': 'Lifelong',\n",
              "  'Price': 14895,\n",
              "  'Product_name': 'Treadmills',\n",
              "  'Quantity': 500,\n",
              "  'Rating': 4.0,\n",
              "  'Seller': 'Cloudtail'},\n",
              " '1028': {'Brand': 'Reach',\n",
              "  'Price': 45127,\n",
              "  'Product_name': 'Step_machine',\n",
              "  'Quantity': 410,\n",
              "  'Rating': 4.1,\n",
              "  'Seller': 'Appario'},\n",
              " '1029': {'Brand': 'Royaloak',\n",
              "  'Price': 35789,\n",
              "  'Product_name': 'Dining_set',\n",
              "  'Quantity': 740,\n",
              "  'Rating': 4.5,\n",
              "  'Seller': 'Appario'},\n",
              " '1030': {'Brand': 'Furny',\n",
              "  'Price': 35000,\n",
              "  'Product_name': 'Sofa',\n",
              "  'Quantity': 500,\n",
              "  'Rating': 4.6,\n",
              "  'Seller': 'shrimadav'},\n",
              " '1031': {'Brand': 'Wildcraft',\n",
              "  'Price': 14500,\n",
              "  'Product_name': 'Rucksack',\n",
              "  'Quantity': 500,\n",
              "  'Rating': 4.6,\n",
              "  'Seller': 'shrimadav'},\n",
              " '1032': {'Brand': 'Sony',\n",
              "  'Price': 45789,\n",
              "  'Product_name': 'Home_theatre',\n",
              "  'Quantity': 785,\n",
              "  'Rating': 4.8,\n",
              "  'Seller': 'Cloudtail'}}"
            ]
          },
          "metadata": {},
          "execution_count": 86
        }
      ]
    },
    {
      "cell_type": "markdown",
      "metadata": {
        "id": "AvHGqqCpLKo7"
      },
      "source": [
        "**Adding Items to the Record**"
      ]
    },
    {
      "cell_type": "code",
      "metadata": {
        "colab": {
          "base_uri": "https://localhost:8080/"
        },
        "id": "wgc4XBYTLLFq",
        "outputId": "2f8ee615-76af-4729-db61-c176e3a33c31"
      },
      "source": [
        "Product_ID   = int(input(\"Enter Product_ID:\"))         #Adding New Item Product_ID in number\n",
        "Product_name = str(input(\"Enter Product_name:\"))       #Adding New Item Product_name in alphabets\n",
        "Price        = int(input(\"Enter Price:\"))              #Adding New Item Price in number\n",
        "Brand        = str(input(\"Enter Brand:\"))              #Adding New Item Brand in alphabets\n",
        "Quantity     = int(input(\"Enter Quantity:\"))           #Adding New Item Quantity in number\n",
        "Seller       = str(input(\"Enter Seller:\"))             #Adding New Item Seller in alphabet\n",
        "Rating       = float(input(\"Enter Rating:\"))           #Adding New Item Rating in decimal\n",
        "\n",
        "Record[Product_ID] = {\"Product_name\" : Product_name , \"Price\" : Price , \"Brand\" : Brand , \"Quantity\" : Quantity , \"Seller\" : Seller , \"Rating\" : Rating}\n",
        "\n",
        "js = json.dumps(Record)\n",
        "\n",
        "fd = open(\"Record.json\",'w')\n",
        "fd.write(js)\n",
        "fd.close()"
      ],
      "execution_count": 87,
      "outputs": [
        {
          "name": "stdout",
          "output_type": "stream",
          "text": [
            "Enter Product_ID:1055\n",
            "Enter Product_name:Umbrella\n",
            "Enter Price:450\n",
            "Enter Brand:RITZ\n",
            "Enter Quantity:700\n",
            "Enter Seller:RIA\n",
            "Enter Rating:4.9\n"
          ]
        }
      ]
    },
    {
      "cell_type": "code",
      "metadata": {
        "colab": {
          "base_uri": "https://localhost:8080/"
        },
        "id": "o-J2koIsL0jv",
        "outputId": "2ceffa74-32f4-4e2a-9f48-938e469d97ad"
      },
      "source": [
        "Record"
      ],
      "execution_count": 88,
      "outputs": [
        {
          "output_type": "execute_result",
          "data": {
            "text/plain": [
              "{'1001': {'Brand': 'AmericanTourister',\n",
              "  'Price': 4570,\n",
              "  'Product_name': 'Suitcase',\n",
              "  'Quantity': 250,\n",
              "  'Rating': 4.8,\n",
              "  'Seller': 'Cloudtail'},\n",
              " '1002': {'Brand': 'LG',\n",
              "  'Price': 35000,\n",
              "  'Product_name': 'Television',\n",
              "  'Quantity': 700,\n",
              "  'Rating': 4.5,\n",
              "  'Seller': 'Cloudtail'},\n",
              " '1003': {'Brand': 'BOAT',\n",
              "  'Price': 1570,\n",
              "  'Product_name': 'Speakers',\n",
              "  'Quantity': 900,\n",
              "  'Rating': 5.0,\n",
              "  'Seller': 'Appario'},\n",
              " '1004': {'Brand': 'Canon',\n",
              "  'Price': 55570,\n",
              "  'Product_name': 'DSLR_camera',\n",
              "  'Quantity': 800,\n",
              "  'Rating': 4.9,\n",
              "  'Seller': 'Appario'},\n",
              " '1005': {'Brand': 'Red_tape',\n",
              "  'Price': 4500,\n",
              "  'Product_name': 'Casual_shoe',\n",
              "  'Quantity': 875,\n",
              "  'Rating': 4.1,\n",
              "  'Seller': 'Ria'},\n",
              " '1006': {'Brand': 'Puma',\n",
              "  'Price': 2400,\n",
              "  'Product_name': 'Formal_shoe',\n",
              "  'Quantity': 580,\n",
              "  'Rating': 4.7,\n",
              "  'Seller': 'Rupal'},\n",
              " '1007': {'Brand': 'Adidas',\n",
              "  'Price': 4578,\n",
              "  'Product_name': 'Sports_shoe',\n",
              "  'Quantity': 370,\n",
              "  'Rating': 4.6,\n",
              "  'Seller': 'shoppers'},\n",
              " '1008': {'Brand': 'Lavie',\n",
              "  'Price': 1450,\n",
              "  'Product_name': 'Wallet',\n",
              "  'Quantity': 100,\n",
              "  'Rating': 4.2,\n",
              "  'Seller': 'shrimadav'},\n",
              " '1009': {'Brand': 'Polariod',\n",
              "  'Price': 6247,\n",
              "  'Product_name': 'Sunglasses',\n",
              "  'Quantity': 490,\n",
              "  'Rating': 4.0,\n",
              "  'Seller': 'Cloudtail'},\n",
              " '1010': {'Brand': 'Mutaqinoti',\n",
              "  'Price': 7621,\n",
              "  'Product_name': 'Wrist_watch',\n",
              "  'Quantity': 720,\n",
              "  'Rating': 4.4,\n",
              "  'Seller': 'Cloudtail'},\n",
              " '1011': {'Brand': 'one_plus',\n",
              "  'Price': 74000,\n",
              "  'Product_name': 'Phone',\n",
              "  'Quantity': 490,\n",
              "  'Rating': 4.7,\n",
              "  'Seller': 'Perfect'},\n",
              " '1012': {'Brand': 'Samsung',\n",
              "  'Price': 84000,\n",
              "  'Product_name': 'Refrigerator',\n",
              "  'Quantity': 350,\n",
              "  'Rating': 4.5,\n",
              "  'Seller': 'Appario'},\n",
              " '1013': {'Brand': 'Dell',\n",
              "  'Price': 69000,\n",
              "  'Product_name': 'Laptop',\n",
              "  'Quantity': 245,\n",
              "  'Rating': 4.5,\n",
              "  'Seller': 'Ria'},\n",
              " '1014': {'Brand': 'HP',\n",
              "  'Price': 21000,\n",
              "  'Product_name': 'Printer',\n",
              "  'Quantity': 320,\n",
              "  'Rating': 4.6,\n",
              "  'Seller': 'Cloudtail'},\n",
              " '1015': {'Brand': 'Syska',\n",
              "  'Price': 2410,\n",
              "  'Product_name': 'Power_bank',\n",
              "  'Quantity': 625,\n",
              "  'Rating': 4.1,\n",
              "  'Seller': 'Rupal'},\n",
              " '1016': {'Brand': 'Apple',\n",
              "  'Price': 35410,\n",
              "  'Product_name': 'Tablet',\n",
              "  'Quantity': 489,\n",
              "  'Rating': 4.0,\n",
              "  'Seller': 'shrimadav'},\n",
              " '1017': {'Brand': 'SG',\n",
              "  'Price': 47581,\n",
              "  'Product_name': 'Cricket_kit',\n",
              "  'Quantity': 625,\n",
              "  'Rating': 4.0,\n",
              "  'Seller': 'Cloudtail'},\n",
              " '1018': {'Brand': 'Hercules',\n",
              "  'Price': 17245,\n",
              "  'Product_name': 'Cycle',\n",
              "  'Quantity': 425,\n",
              "  'Rating': 4.0,\n",
              "  'Seller': 'Appario'},\n",
              " '1019': {'Brand': 'philips',\n",
              "  'Price': 3542,\n",
              "  'Product_name': 'Trimmer',\n",
              "  'Quantity': 500,\n",
              "  'Rating': 4.4,\n",
              "  'Seller': 'Appario'},\n",
              " '1020': {'Brand': 'Royal_enfield',\n",
              "  'Price': 7582,\n",
              "  'Product_name': 'Gloves',\n",
              "  'Quantity': 412,\n",
              "  'Rating': 4.1,\n",
              "  'Seller': 'Cloudtail'},\n",
              " '1021': {'Brand': 'Vector_X',\n",
              "  'Price': 1452,\n",
              "  'Product_name': 'Football',\n",
              "  'Quantity': 123,\n",
              "  'Rating': 4.4,\n",
              "  'Seller': 'shrimadav'},\n",
              " '1022': {'Brand': 'Diary_milk',\n",
              "  'Price': 1785,\n",
              "  'Product_name': 'Chocolates',\n",
              "  'Quantity': 900,\n",
              "  'Rating': 5.0,\n",
              "  'Seller': 'Perfect'},\n",
              " '1023': {'Brand': 'Aurion',\n",
              "  'Price': 1496,\n",
              "  'Product_name': 'Skipping_rope',\n",
              "  'Quantity': 400,\n",
              "  'Rating': 4.9,\n",
              "  'Seller': 'shrimadav'},\n",
              " '1024': {'Brand': 'OJS',\n",
              "  'Price': 789,\n",
              "  'Product_name': 'Yoga_mat',\n",
              "  'Quantity': 750,\n",
              "  'Rating': 4.8,\n",
              "  'Seller': 'Rupal'},\n",
              " '1025': {'Brand': 'Zorzel',\n",
              "  'Price': 6210,\n",
              "  'Product_name': 'Tent',\n",
              "  'Quantity': 300,\n",
              "  'Rating': 4.1,\n",
              "  'Seller': 'shrimadav'},\n",
              " '1026': {'Brand': 'Generic',\n",
              "  'Price': 7814,\n",
              "  'Product_name': 'Camping_kit',\n",
              "  'Quantity': 400,\n",
              "  'Rating': 4.0,\n",
              "  'Seller': 'Ria'},\n",
              " '1027': {'Brand': 'Lifelong',\n",
              "  'Price': 14895,\n",
              "  'Product_name': 'Treadmills',\n",
              "  'Quantity': 500,\n",
              "  'Rating': 4.0,\n",
              "  'Seller': 'Cloudtail'},\n",
              " '1028': {'Brand': 'Reach',\n",
              "  'Price': 45127,\n",
              "  'Product_name': 'Step_machine',\n",
              "  'Quantity': 410,\n",
              "  'Rating': 4.1,\n",
              "  'Seller': 'Appario'},\n",
              " '1029': {'Brand': 'Royaloak',\n",
              "  'Price': 35789,\n",
              "  'Product_name': 'Dining_set',\n",
              "  'Quantity': 740,\n",
              "  'Rating': 4.5,\n",
              "  'Seller': 'Appario'},\n",
              " '1030': {'Brand': 'Furny',\n",
              "  'Price': 35000,\n",
              "  'Product_name': 'Sofa',\n",
              "  'Quantity': 500,\n",
              "  'Rating': 4.6,\n",
              "  'Seller': 'shrimadav'},\n",
              " '1031': {'Brand': 'Wildcraft',\n",
              "  'Price': 14500,\n",
              "  'Product_name': 'Rucksack',\n",
              "  'Quantity': 500,\n",
              "  'Rating': 4.6,\n",
              "  'Seller': 'shrimadav'},\n",
              " '1032': {'Brand': 'Sony',\n",
              "  'Price': 45789,\n",
              "  'Product_name': 'Home_theatre',\n",
              "  'Quantity': 785,\n",
              "  'Rating': 4.8,\n",
              "  'Seller': 'Cloudtail'},\n",
              " 1055: {'Brand': 'RITZ',\n",
              "  'Price': 450,\n",
              "  'Product_name': 'Umbrella',\n",
              "  'Quantity': 700,\n",
              "  'Rating': 4.9,\n",
              "  'Seller': 'RIA'}}"
            ]
          },
          "metadata": {},
          "execution_count": 88
        }
      ]
    },
    {
      "cell_type": "markdown",
      "metadata": {
        "id": "b4ywwBpyL-Xe"
      },
      "source": [
        "**Purchasing of Items From the Inventory**\n"
      ]
    },
    {
      "cell_type": "code",
      "metadata": {
        "colab": {
          "base_uri": "https://localhost:8080/"
        },
        "id": "KpFcL2DnL-6g",
        "outputId": "c96e4472-1b44-448c-8e3f-049918afe9fe"
      },
      "source": [
        "Ui_Prod  = str(input(\"Enter the Product_ID: \"))\n",
        "Ui_Quant = int(input(\"Enter the Quantity: \")) \n",
        "\n",
        "print(\"Product_name: \", Record[Ui_Prod][\"Product_name\"])\n",
        "print(\"Price: \", Record[Ui_Prod][\"Price\"])\n",
        "print(\"Brand: \", Record[Ui_Prod][\"Brand\"])\n",
        "print(\"Seller: \", Record[Ui_Prod][\"Seller\"])\n",
        "print(\"Rating: \", Record[Ui_Prod][\"Rating\"])\n",
        "print(\"*********************\")\n",
        "print(\"Billing Amount: \", Record[Ui_Prod][\"Price\"] * Ui_Quant)\n",
        "print(\"*********************\")\n",
        "\n",
        "Record[Ui_Prod][\"Quantity\"] = Record[Ui_Prod][\"Quantity\"] - Ui_Quant"
      ],
      "execution_count": 89,
      "outputs": [
        {
          "output_type": "stream",
          "name": "stdout",
          "text": [
            "Enter the Product_ID: 1011\n",
            "Enter the Quantity: 42\n",
            "Product_name:  Phone\n",
            "Price:  74000\n",
            "Brand:  one_plus\n",
            "Seller:  Perfect\n",
            "Rating:  4.7\n",
            "*********************\n",
            "Billing Amount:  3108000\n",
            "*********************\n"
          ]
        }
      ]
    },
    {
      "cell_type": "markdown",
      "metadata": {
        "id": "ChOd6EMvMlWA"
      },
      "source": [
        "**Updating the inventory after Purchasing**"
      ]
    },
    {
      "cell_type": "code",
      "metadata": {
        "colab": {
          "base_uri": "https://localhost:8080/"
        },
        "id": "JU8OpHaeMC5k",
        "outputId": "53243f2f-486a-4de8-89e1-001f76b5f4af"
      },
      "source": [
        "js = json.dumps(Record)\n",
        "\n",
        "fd = open(\"Record.json\",'w')\n",
        "fd.write(js)\n",
        "fd.close()\n",
        "\n",
        "Record"
      ],
      "execution_count": 90,
      "outputs": [
        {
          "output_type": "execute_result",
          "data": {
            "text/plain": [
              "{'1001': {'Brand': 'AmericanTourister',\n",
              "  'Price': 4570,\n",
              "  'Product_name': 'Suitcase',\n",
              "  'Quantity': 250,\n",
              "  'Rating': 4.8,\n",
              "  'Seller': 'Cloudtail'},\n",
              " '1002': {'Brand': 'LG',\n",
              "  'Price': 35000,\n",
              "  'Product_name': 'Television',\n",
              "  'Quantity': 700,\n",
              "  'Rating': 4.5,\n",
              "  'Seller': 'Cloudtail'},\n",
              " '1003': {'Brand': 'BOAT',\n",
              "  'Price': 1570,\n",
              "  'Product_name': 'Speakers',\n",
              "  'Quantity': 900,\n",
              "  'Rating': 5.0,\n",
              "  'Seller': 'Appario'},\n",
              " '1004': {'Brand': 'Canon',\n",
              "  'Price': 55570,\n",
              "  'Product_name': 'DSLR_camera',\n",
              "  'Quantity': 800,\n",
              "  'Rating': 4.9,\n",
              "  'Seller': 'Appario'},\n",
              " '1005': {'Brand': 'Red_tape',\n",
              "  'Price': 4500,\n",
              "  'Product_name': 'Casual_shoe',\n",
              "  'Quantity': 875,\n",
              "  'Rating': 4.1,\n",
              "  'Seller': 'Ria'},\n",
              " '1006': {'Brand': 'Puma',\n",
              "  'Price': 2400,\n",
              "  'Product_name': 'Formal_shoe',\n",
              "  'Quantity': 580,\n",
              "  'Rating': 4.7,\n",
              "  'Seller': 'Rupal'},\n",
              " '1007': {'Brand': 'Adidas',\n",
              "  'Price': 4578,\n",
              "  'Product_name': 'Sports_shoe',\n",
              "  'Quantity': 370,\n",
              "  'Rating': 4.6,\n",
              "  'Seller': 'shoppers'},\n",
              " '1008': {'Brand': 'Lavie',\n",
              "  'Price': 1450,\n",
              "  'Product_name': 'Wallet',\n",
              "  'Quantity': 100,\n",
              "  'Rating': 4.2,\n",
              "  'Seller': 'shrimadav'},\n",
              " '1009': {'Brand': 'Polariod',\n",
              "  'Price': 6247,\n",
              "  'Product_name': 'Sunglasses',\n",
              "  'Quantity': 490,\n",
              "  'Rating': 4.0,\n",
              "  'Seller': 'Cloudtail'},\n",
              " '1010': {'Brand': 'Mutaqinoti',\n",
              "  'Price': 7621,\n",
              "  'Product_name': 'Wrist_watch',\n",
              "  'Quantity': 720,\n",
              "  'Rating': 4.4,\n",
              "  'Seller': 'Cloudtail'},\n",
              " '1011': {'Brand': 'one_plus',\n",
              "  'Price': 74000,\n",
              "  'Product_name': 'Phone',\n",
              "  'Quantity': 448,\n",
              "  'Rating': 4.7,\n",
              "  'Seller': 'Perfect'},\n",
              " '1012': {'Brand': 'Samsung',\n",
              "  'Price': 84000,\n",
              "  'Product_name': 'Refrigerator',\n",
              "  'Quantity': 350,\n",
              "  'Rating': 4.5,\n",
              "  'Seller': 'Appario'},\n",
              " '1013': {'Brand': 'Dell',\n",
              "  'Price': 69000,\n",
              "  'Product_name': 'Laptop',\n",
              "  'Quantity': 245,\n",
              "  'Rating': 4.5,\n",
              "  'Seller': 'Ria'},\n",
              " '1014': {'Brand': 'HP',\n",
              "  'Price': 21000,\n",
              "  'Product_name': 'Printer',\n",
              "  'Quantity': 320,\n",
              "  'Rating': 4.6,\n",
              "  'Seller': 'Cloudtail'},\n",
              " '1015': {'Brand': 'Syska',\n",
              "  'Price': 2410,\n",
              "  'Product_name': 'Power_bank',\n",
              "  'Quantity': 625,\n",
              "  'Rating': 4.1,\n",
              "  'Seller': 'Rupal'},\n",
              " '1016': {'Brand': 'Apple',\n",
              "  'Price': 35410,\n",
              "  'Product_name': 'Tablet',\n",
              "  'Quantity': 489,\n",
              "  'Rating': 4.0,\n",
              "  'Seller': 'shrimadav'},\n",
              " '1017': {'Brand': 'SG',\n",
              "  'Price': 47581,\n",
              "  'Product_name': 'Cricket_kit',\n",
              "  'Quantity': 625,\n",
              "  'Rating': 4.0,\n",
              "  'Seller': 'Cloudtail'},\n",
              " '1018': {'Brand': 'Hercules',\n",
              "  'Price': 17245,\n",
              "  'Product_name': 'Cycle',\n",
              "  'Quantity': 425,\n",
              "  'Rating': 4.0,\n",
              "  'Seller': 'Appario'},\n",
              " '1019': {'Brand': 'philips',\n",
              "  'Price': 3542,\n",
              "  'Product_name': 'Trimmer',\n",
              "  'Quantity': 500,\n",
              "  'Rating': 4.4,\n",
              "  'Seller': 'Appario'},\n",
              " '1020': {'Brand': 'Royal_enfield',\n",
              "  'Price': 7582,\n",
              "  'Product_name': 'Gloves',\n",
              "  'Quantity': 412,\n",
              "  'Rating': 4.1,\n",
              "  'Seller': 'Cloudtail'},\n",
              " '1021': {'Brand': 'Vector_X',\n",
              "  'Price': 1452,\n",
              "  'Product_name': 'Football',\n",
              "  'Quantity': 123,\n",
              "  'Rating': 4.4,\n",
              "  'Seller': 'shrimadav'},\n",
              " '1022': {'Brand': 'Diary_milk',\n",
              "  'Price': 1785,\n",
              "  'Product_name': 'Chocolates',\n",
              "  'Quantity': 900,\n",
              "  'Rating': 5.0,\n",
              "  'Seller': 'Perfect'},\n",
              " '1023': {'Brand': 'Aurion',\n",
              "  'Price': 1496,\n",
              "  'Product_name': 'Skipping_rope',\n",
              "  'Quantity': 400,\n",
              "  'Rating': 4.9,\n",
              "  'Seller': 'shrimadav'},\n",
              " '1024': {'Brand': 'OJS',\n",
              "  'Price': 789,\n",
              "  'Product_name': 'Yoga_mat',\n",
              "  'Quantity': 750,\n",
              "  'Rating': 4.8,\n",
              "  'Seller': 'Rupal'},\n",
              " '1025': {'Brand': 'Zorzel',\n",
              "  'Price': 6210,\n",
              "  'Product_name': 'Tent',\n",
              "  'Quantity': 300,\n",
              "  'Rating': 4.1,\n",
              "  'Seller': 'shrimadav'},\n",
              " '1026': {'Brand': 'Generic',\n",
              "  'Price': 7814,\n",
              "  'Product_name': 'Camping_kit',\n",
              "  'Quantity': 400,\n",
              "  'Rating': 4.0,\n",
              "  'Seller': 'Ria'},\n",
              " '1027': {'Brand': 'Lifelong',\n",
              "  'Price': 14895,\n",
              "  'Product_name': 'Treadmills',\n",
              "  'Quantity': 500,\n",
              "  'Rating': 4.0,\n",
              "  'Seller': 'Cloudtail'},\n",
              " '1028': {'Brand': 'Reach',\n",
              "  'Price': 45127,\n",
              "  'Product_name': 'Step_machine',\n",
              "  'Quantity': 410,\n",
              "  'Rating': 4.1,\n",
              "  'Seller': 'Appario'},\n",
              " '1029': {'Brand': 'Royaloak',\n",
              "  'Price': 35789,\n",
              "  'Product_name': 'Dining_set',\n",
              "  'Quantity': 740,\n",
              "  'Rating': 4.5,\n",
              "  'Seller': 'Appario'},\n",
              " '1030': {'Brand': 'Furny',\n",
              "  'Price': 35000,\n",
              "  'Product_name': 'Sofa',\n",
              "  'Quantity': 500,\n",
              "  'Rating': 4.6,\n",
              "  'Seller': 'shrimadav'},\n",
              " '1031': {'Brand': 'Wildcraft',\n",
              "  'Price': 14500,\n",
              "  'Product_name': 'Rucksack',\n",
              "  'Quantity': 500,\n",
              "  'Rating': 4.6,\n",
              "  'Seller': 'shrimadav'},\n",
              " '1032': {'Brand': 'Sony',\n",
              "  'Price': 45789,\n",
              "  'Product_name': 'Home_theatre',\n",
              "  'Quantity': 785,\n",
              "  'Rating': 4.8,\n",
              "  'Seller': 'Cloudtail'},\n",
              " 1055: {'Brand': 'RITZ',\n",
              "  'Price': 450,\n",
              "  'Product_name': 'Umbrella',\n",
              "  'Quantity': 700,\n",
              "  'Rating': 4.9,\n",
              "  'Seller': 'RIA'}}"
            ]
          },
          "metadata": {},
          "execution_count": 90
        }
      ]
    },
    {
      "cell_type": "markdown",
      "metadata": {
        "id": "ngRSu_KSMswJ"
      },
      "source": [
        "**Sales JSON**"
      ]
    },
    {
      "cell_type": "code",
      "metadata": {
        "colab": {
          "base_uri": "https://localhost:8080/"
        },
        "id": "-DKoYktdMtLd",
        "outputId": "9972a77e-42b3-47a5-ea27-a7b29b271a07"
      },
      "source": [
        "{\"Product_ID\" : Ui_Prod, \"Quantity\" : Ui_Quant, \"Billing Amount\": Record[Ui_Prod][\"Price\"] * Ui_Quant}"
      ],
      "execution_count": 91,
      "outputs": [
        {
          "output_type": "execute_result",
          "data": {
            "text/plain": [
              "{'Billing Amount': 3108000, 'Product_ID': '1011', 'Quantity': 42}"
            ]
          },
          "metadata": {},
          "execution_count": 91
        }
      ]
    },
    {
      "cell_type": "code",
      "metadata": {
        "colab": {
          "base_uri": "https://localhost:8080/"
        },
        "id": "5oxHa8jZM0i1",
        "outputId": "2e4463ba-33bc-4996-e830-cd7221c0a283"
      },
      "source": [
        "Sales = {1 : {\"Product_ID\" : Ui_Prod, \"Quantity\" : Ui_Quant, \"Billing Amount\": Record[Ui_Prod][\"Price\"] * Ui_Quant},\n",
        "         2 : {\"Product_ID\" : Ui_Prod, \"Quantity\" : Ui_Quant, \"Billing Amount\": Record[Ui_Prod][\"Price\"] * Ui_Quant},\n",
        "         3 : {\"Product_ID\" : Ui_Prod, \"Quantity\" : Ui_Quant, \"Billing Amount\": Record[Ui_Prod][\"Price\"] * Ui_Quant}}\n",
        "\n",
        "Sales[len(Sales) + 1] = {\"Product_ID\" : Ui_Prod, \"Quantity\" : Ui_Quant, \"Billing Amount\": Record[Ui_Prod][\"Price\"] * Ui_Quant} \n",
        "Sales"
      ],
      "execution_count": 92,
      "outputs": [
        {
          "output_type": "execute_result",
          "data": {
            "text/plain": [
              "{1: {'Billing Amount': 3108000, 'Product_ID': '1011', 'Quantity': 42},\n",
              " 2: {'Billing Amount': 3108000, 'Product_ID': '1011', 'Quantity': 42},\n",
              " 3: {'Billing Amount': 3108000, 'Product_ID': '1011', 'Quantity': 42},\n",
              " 4: {'Billing Amount': 3108000, 'Product_ID': '1011', 'Quantity': 42}}"
            ]
          },
          "metadata": {},
          "execution_count": 92
        }
      ]
    },
    {
      "cell_type": "code",
      "metadata": {
        "colab": {
          "base_uri": "https://localhost:8080/",
          "height": 67
        },
        "id": "6djbiquWNKPt",
        "outputId": "abd448f0-018d-4628-abec-84ad01041129"
      },
      "source": [
        "Sales = json.dumps(Sales)\n",
        "\n",
        "fd = open(\"Sales.json\",'w')\n",
        "fd.write(Sales)\n",
        "fd.close()\n",
        "\n",
        "Sales"
      ],
      "execution_count": 93,
      "outputs": [
        {
          "output_type": "execute_result",
          "data": {
            "application/vnd.google.colaboratory.intrinsic+json": {
              "type": "string"
            },
            "text/plain": [
              "'{\"1\": {\"Product_ID\": \"1011\", \"Quantity\": 42, \"Billing Amount\": 3108000}, \"2\": {\"Product_ID\": \"1011\", \"Quantity\": 42, \"Billing Amount\": 3108000}, \"3\": {\"Product_ID\": \"1011\", \"Quantity\": 42, \"Billing Amount\": 3108000}, \"4\": {\"Product_ID\": \"1011\", \"Quantity\": 42, \"Billing Amount\": 3108000}}'"
            ]
          },
          "metadata": {},
          "execution_count": 93
        }
      ]
    }
  ]
}